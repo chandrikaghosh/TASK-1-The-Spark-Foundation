{
 "cells": [
  {
   "cell_type": "markdown",
   "id": "b5e0f55b",
   "metadata": {},
   "source": [
    "# Prediction using Supervised ML"
   ]
  },
  {
   "cell_type": "markdown",
   "id": "e6e7a584",
   "metadata": {},
   "source": [
    "##### Predicting the percentage of students based on the numbers of hours of study"
   ]
  },
  {
   "cell_type": "markdown",
   "id": "80588a2e",
   "metadata": {},
   "source": [
    "##Data- http://bit.ly/w-data"
   ]
  },
  {
   "cell_type": "code",
   "execution_count": null,
   "id": "3e795199",
   "metadata": {},
   "outputs": [],
   "source": [
    "#importing the required libraries\n",
    "import pandas as pd\n",
    "import numpy as np\n",
    "import matplotlib.pyplot as plt\n",
    "%matplotlib inline"
   ]
  },
  {
   "cell_type": "code",
   "execution_count": null,
   "id": "80374b08",
   "metadata": {},
   "outputs": [],
   "source": [
    "#reading the data set\n",
    "url = \"http://bit.ly/w-data\"\n",
    "df = pd.read_csv(url)\n",
    "print(df)"
   ]
  },
  {
   "cell_type": "code",
   "execution_count": null,
   "id": "6ee0aea8",
   "metadata": {},
   "outputs": [],
   "source": [
    "#exploring the data\n",
    "print(df.shape)\n",
    "\n",
    "df.info()"
   ]
  },
  {
   "cell_type": "code",
   "execution_count": null,
   "id": "3696ae0b",
   "metadata": {},
   "outputs": [],
   "source": [
    "df.describe()"
   ]
  },
  {
   "cell_type": "markdown",
   "id": "c1fb8451",
   "metadata": {},
   "source": [
    "Let us draw a scatter diagram to see the relationship between percentage the students have achieved and hours they study."
   ]
  },
  {
   "cell_type": "code",
   "execution_count": null,
   "id": "a5e88fc8",
   "metadata": {},
   "outputs": [],
   "source": [
    "#plotting the distribution of scores\n",
    "df.plot(kind = \"scatter\", x = \"Hours\", y = \"Scores\")\n",
    "plt.show()"
   ]
  },
  {
   "cell_type": "markdown",
   "id": "c85d8ce8",
   "metadata": {},
   "source": [
    "From the above plot we can see that the percentage of students are positively related to the number of hours they study. So we can say that more the number of hrs students study better their percentage gets.We can also infer that the variables have a fairly linear relation"
   ]
  },
  {
   "cell_type": "code",
   "execution_count": null,
   "id": "f7f333b2",
   "metadata": {},
   "outputs": [],
   "source": [
    "#to check that whether the variables are positively related we check the correlation coefficient.\n",
    "df.corr(method = \"spearman\")"
   ]
  },
  {
   "cell_type": "markdown",
   "id": "366494b7",
   "metadata": {},
   "source": [
    "The correlation coefficient is close to 1 i.e. 0.97, so we can say that the variables are positively related."
   ]
  },
  {
   "cell_type": "markdown",
   "id": "63d242c6",
   "metadata": {},
   "source": [
    "#### Starting with Linear Regression"
   ]
  },
  {
   "cell_type": "code",
   "execution_count": null,
   "id": "22dde026",
   "metadata": {},
   "outputs": [],
   "source": [
    "#preparing the data\n",
    "x = df.iloc[:, :-1].values  \n",
    "y = df.iloc[:, 1].values"
   ]
  },
  {
   "cell_type": "code",
   "execution_count": null,
   "id": "30217eae",
   "metadata": {},
   "outputs": [],
   "source": [
    "print(x)\n",
    "print(y)"
   ]
  },
  {
   "cell_type": "code",
   "execution_count": null,
   "id": "2049d789",
   "metadata": {},
   "outputs": [],
   "source": [
    "from sklearn.model_selection import train_test_split  \n",
    "x_train, x_test, y_train, y_test = train_test_split(x, y, \n",
    "                            test_size=0.2, random_state=0) "
   ]
  },
  {
   "cell_type": "code",
   "execution_count": null,
   "id": "c739a60e",
   "metadata": {},
   "outputs": [],
   "source": [
    "from sklearn.linear_model import LinearRegression\n",
    "reg = LinearRegression()\n",
    "reg.fit(x_train, y_train)\n",
    "print(\"training complete.\")"
   ]
  },
  {
   "cell_type": "code",
   "execution_count": null,
   "id": "e1a8a9a2",
   "metadata": {},
   "outputs": [],
   "source": [
    "#plotting the regression line \n",
    "line = reg.coef_*x + reg.intercept_\n"
   ]
  },
  {
   "cell_type": "code",
   "execution_count": null,
   "id": "41282ec1",
   "metadata": {},
   "outputs": [],
   "source": [
    "#plotting the test data \n",
    "plt.scatter(x, y)\n",
    "plt.plot(x, line)\n",
    "plt.title(\"Actual vs Predicted\")\n",
    "plt.ylabel(\"Scores\")\n",
    "plt.xlabel(\"Hours\")\n",
    "plt.show()"
   ]
  },
  {
   "cell_type": "code",
   "execution_count": null,
   "id": "2afdee60",
   "metadata": {},
   "outputs": [],
   "source": [
    "print(x_test) "
   ]
  },
  {
   "cell_type": "code",
   "execution_count": null,
   "id": "08cb9fcb",
   "metadata": {},
   "outputs": [],
   "source": [
    "y_pred = reg.predict(x_test)"
   ]
  },
  {
   "cell_type": "code",
   "execution_count": null,
   "id": "3c15ba0b",
   "metadata": {},
   "outputs": [],
   "source": [
    "#comparing actual and predicted scores\n",
    "df = pd.DataFrame({'Actual': y_test, 'Predicted': y_pred})  \n",
    "df"
   ]
  },
  {
   "cell_type": "code",
   "execution_count": null,
   "id": "e9beb945",
   "metadata": {},
   "outputs": [],
   "source": [
    "#calculating accuracy of the model.\n",
    "from sklearn import metrics  \n",
    "print('Mean Absolute Error:', metrics.mean_absolute_error(y_test, y_pred)) "
   ]
  },
  {
   "cell_type": "markdown",
   "id": "8679a44a",
   "metadata": {},
   "source": [
    "Small value of Mean Absolute Error states that there is very less chance of error in forecasting."
   ]
  },
  {
   "cell_type": "code",
   "execution_count": null,
   "id": "1435e22c",
   "metadata": {},
   "outputs": [],
   "source": [
    "#considering a numerical value for hours to see the predicted value of score.\n",
    "Hours = [9.25]\n",
    "answer = reg.predict([Hours])\n",
    "print(\"Score = {}\".format(answer))\n"
   ]
  },
  {
   "cell_type": "markdown",
   "id": "11de0ce6",
   "metadata": {},
   "source": [
    "When a student study for 9.25 hours then the predicted score is 93.69."
   ]
  }
 ],
 "metadata": {
  "kernelspec": {
   "display_name": "Python 3 (ipykernel)",
   "language": "python",
   "name": "python3"
  },
  "language_info": {
   "codemirror_mode": {
    "name": "ipython",
    "version": 3
   },
   "file_extension": ".py",
   "mimetype": "text/x-python",
   "name": "python",
   "nbconvert_exporter": "python",
   "pygments_lexer": "ipython3",
   "version": "3.9.7"
  }
 },
 "nbformat": 4,
 "nbformat_minor": 5
}
